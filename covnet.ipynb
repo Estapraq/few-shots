{
 "cells": [
  {
   "cell_type": "code",
   "execution_count": 373,
   "metadata": {},
   "outputs": [],
   "source": [
    "# two-shot-classification.py\n",
    "# The training set will have two coppies of each exaple. I will run single test \n",
    "#file against the tarining examples each time. \n",
    "import os\n",
    "import numpy as np\n",
    "from scipy.ndimage import imread\n",
    "from scipy.spatial.distance import cdist\n",
    "from math import*\n",
    "import h5py\n",
    "import matplotlib.pyplot as plt\n",
    "from PIL import Image\n",
    "from scipy import ndimage\n",
    "import tensorflow as tf\n",
    "from tensorflow.python.framework import ops\n",
    "%matplotlib inline\n",
    "np.random.seed(1)"
   ]
  },
  {
   "cell_type": "code",
   "execution_count": 374,
   "metadata": {},
   "outputs": [],
   "source": [
    "nrun = 20  # Number of test files\n",
    "#path_to_script_dir = os.path.dirname(os.path.realpath(\"__file__\"))\n",
    "path_to_script_dir='C:/Users/Esta/Projects/two-shots'\n",
    "path_to_all_runs = os.path.join(path_to_script_dir, 'all_runs')\n",
    "fname_label = 'class_labels.txt'  # Where class labels are stored for each run"
   ]
  },
  {
   "cell_type": "code",
   "execution_count": 375,
   "metadata": {},
   "outputs": [],
   "source": [
    "def load_img_as_points(filename):\n",
    "    # Load image file and return coordinates of black pixels in the binary image\n",
    "    #\n",
    "    # Input\n",
    "    #  filename : string, absolute path to image\n",
    "    #\n",
    "   \n",
    "    I = plt.imread(filename)\n",
    "\n",
    "    return I\n"
   ]
  },
  {
   "cell_type": "code",
   "execution_count": 376,
   "metadata": {},
   "outputs": [],
   "source": [
    "\n",
    "for r in range(0, 3, 2):\n",
    "    folder1= 'run{:02d}'.format(r+1)\n",
    "    folder2='run{:02d}'.format(r + 2)\n",
    "    with open(os.path.join(path_to_all_runs, folder1, fname_label)) as f:\n",
    "        pairs1 = [line.split() for line in f.readlines()]\n",
    "        \n",
    "    with open(os.path.join(path_to_all_runs, folder2, fname_label)) as k:\n",
    "        pairs2 = [line.split() for line in k.readlines()]\n",
    "        \n",
    "    # Unzip the pairs into two sets of tuples\n",
    "    test_files1, train_files1 = zip(*pairs1)\n",
    "    test_files2, train_files2 = zip(*pairs2)\n",
    "    \n",
    "    \n",
    "   \n",
    "\n",
    "    answers_test_files1 = list(test_files1)  # Copy the training file list\n",
    "    answers_train_files1 = list(train_files1)  # Copy the training file list\n",
    "    test_files1 = sorted(test_files1)\n",
    "    train_files1 = sorted(train_files1)\n",
    "\n",
    "    answers_files2 = list(train_files2)  # Copy the training file list\n",
    "    test_files2 = sorted(test_files2)\n",
    "    train_files2 = sorted(train_files2)\n",
    " \n",
    "    \n",
    "    train_files=train_files1 + train_files2\n",
    "   \n",
    "    \n",
    "train_items = [load_img_as_points(os.path.join(path_to_all_runs, f)) #stored as points images\n",
    "                   for f in train_files]\n",
    "test_items1 = [load_img_as_points(os.path.join(path_to_all_runs, f))# stored as points images\n",
    "                   for f in test_files1]\n",
    "\n",
    "answer_test_items1 = [load_img_as_points(os.path.join(path_to_all_runs, f))\n",
    "                   for f in answers_test_files1] #I will use it as a positive examples in L_2\n",
    "  \n",
    "answer_train_items1 = [load_img_as_points(os.path.join(path_to_all_runs, f))\n",
    "                   for f in answers_train_files1] #I will use it as a positive examples in L_2\n",
    "  \n"
   ]
  },
  {
   "cell_type": "code",
   "execution_count": 377,
   "metadata": {
    "scrolled": true
   },
   "outputs": [
    {
     "data": {
      "text/plain": [
       "<matplotlib.image.AxesImage at 0x1d06ac654a8>"
      ]
     },
     "execution_count": 377,
     "metadata": {},
     "output_type": "execute_result"
    },
    {
     "data": {
      "image/png": "[encoded data removed]",
      "text/plain": [
       "<matplotlib.figure.Figure at 0x1d06a308668>"
      ]
     },
     "metadata": {},
     "output_type": "display_data"
    }
   ],
   "source": [
    "\n",
    "plt.imshow(train_items[0])\n"
   ]
  },
  {
   "cell_type": "code",
   "execution_count": 378,
   "metadata": {},
   "outputs": [
    {
     "data": {
      "text/plain": [
       "<matplotlib.image.AxesImage at 0x1d06a547fd0>"
      ]
     },
     "execution_count": 378,
     "metadata": {},
     "output_type": "execute_result"
    },
    {
     "data": {
      "image/png": "[encoded data removed]",
      "text/plain": [
       "<matplotlib.figure.Figure at 0x1d06ac78390>"
      ]
     },
     "metadata": {},
     "output_type": "display_data"
    }
   ],
   "source": [
    "plt.imshow(train_items[20])\n"
   ]
  },
  {
   "cell_type": "code",
   "execution_count": 379,
   "metadata": {
    "scrolled": false
   },
   "outputs": [
    {
     "data": {
      "text/plain": [
       "<matplotlib.image.AxesImage at 0x1d06a5d8a90>"
      ]
     },
     "execution_count": 379,
     "metadata": {},
     "output_type": "execute_result"
    },
    {
     "data": {
      "image/png": "[encoded data removed]",
      "text/plain": [
       "<matplotlib.figure.Figure at 0x1d06aa13358>"
      ]
     },
     "metadata": {},
     "output_type": "display_data"
    }
   ],
   "source": [
    "plt.imshow(answer_test_items1[1])"
   ]
  },
  {
   "cell_type": "code",
   "execution_count": 380,
   "metadata": {
    "scrolled": true
   },
   "outputs": [
    {
     "data": {
      "text/plain": [
       "<matplotlib.image.AxesImage at 0x1d06aba6518>"
      ]
     },
     "execution_count": 380,
     "metadata": {},
     "output_type": "execute_result"
    },
    {
     "data": {
      "image/png": "[encoded data removed]",
      "text/plain": [
       "<matplotlib.figure.Figure at 0x1d06a606b00>"
      ]
     },
     "metadata": {},
     "output_type": "display_data"
    }
   ],
   "source": [
    "plt.imshow(answer_train_items1[1])"
   ]
  },
  {
   "cell_type": "code",
   "execution_count": 381,
   "metadata": {},
   "outputs": [
    {
     "name": "stdout",
     "output_type": "stream",
     "text": [
      "run03/test/item02.png\n"
     ]
    }
   ],
   "source": [
    "print(answers_test_files1[1])"
   ]
  },
  {
   "cell_type": "code",
   "execution_count": 382,
   "metadata": {
    "scrolled": true
   },
   "outputs": [
    {
     "name": "stdout",
     "output_type": "stream",
     "text": [
      "number of training examples = 40\n",
      "number of test examples = 20\n",
      "X_train shape: (40, 105, 105)\n",
      "X_test shape: (40, 105, 105, 1)\n"
     ]
    }
   ],
   "source": [
    "\n",
    "# Flatten the training and test images\n",
    "train_items=np.array(train_items)\n",
    "test_items1=np.array(test_items1)\n",
    "# Normalize image vector\n",
    "X_train = train_items / 255.\n",
    "X_test = test_items1 / 255.\n",
    "X_train_new=X_train.reshape(40, 105, 105, 1)\n",
    "print (\"number of training examples = \" + str(X_train.shape[0]))\n",
    "print (\"number of test examples = \" + str(X_test1.shape[0]))\n",
    "print (\"X_train shape: \" + str(X_train.shape))\n",
    "print (\"X_test shape: \" + str(X_train_new.shape))\n",
    "\n",
    "conv_layers = {}\n"
   ]
  },
  {
   "cell_type": "code",
   "execution_count": null,
   "metadata": {},
   "outputs": [],
   "source": []
  },
  {
   "cell_type": "code",
   "execution_count": 383,
   "metadata": {},
   "outputs": [],
   "source": [
    "# GRADED FUNCTION: create_placeholders\n",
    "\n",
    "def create_placeholders(n_H0, n_W0, n_c):\n",
    "   \n",
    "    X = tf.placeholder(tf.float32, [None, n_H0, n_W0, n_c])\n",
    "   \n",
    "    \n",
    "    return X\n"
   ]
  },
  {
   "cell_type": "code",
   "execution_count": 384,
   "metadata": {},
   "outputs": [
    {
     "name": "stdout",
     "output_type": "stream",
     "text": [
      "X = Tensor(\"Placeholder_1:0\", shape=(?, 105, 105, 1), dtype=float32)\n"
     ]
    }
   ],
   "source": [
    "\n",
    "X = create_placeholders(105, 105, 1)\n",
    "print (\"X = \" + str(X))\n"
   ]
  },
  {
   "cell_type": "code",
   "execution_count": 385,
   "metadata": {},
   "outputs": [],
   "source": [
    "\n",
    "# GRADED FUNCTION: initialize_parameters\n",
    "\n",
    "def initialize_parameters():\n",
    "    \"\"\"\n",
    "    Initializes weight parameters to build a neural network with tensorflow. The shapes are:\n",
    "                        W1 : [4, 4, 3, 8]\n",
    "                        W2 : [2, 2, 8, 16]\n",
    "    Returns:\n",
    "    parameters -- a dictionary of tensors containing W1, W2\n",
    "    \"\"\"\n",
    "    \n",
    "    tf.set_random_seed(1)                            \n",
    "\n",
    "    W1 = tf.get_variable(\"W1\", [4, 4, 1, 4], initializer=tf.contrib.layers.xavier_initializer(seed=0))\n",
    "    W2 = tf.get_variable(\"W2\", [2, 2, 4, 16], initializer=tf.contrib.layers.xavier_initializer(seed=0))\n",
    "    \n",
    "\n",
    "    parameters = {\"W1\": W1,\n",
    "                  \"W2\": W2}\n",
    "    \n",
    "    return parameters"
   ]
  },
  {
   "cell_type": "code",
   "execution_count": 386,
   "metadata": {},
   "outputs": [
    {
     "name": "stdout",
     "output_type": "stream",
     "text": [
      "W1 = [[[ 0.19431433  0.05261934  0.15128067  0.25907856]]\n",
      "\n",
      " [[-0.23965749 -0.09003089 -0.15244845 -0.0983935 ]]\n",
      "\n",
      " [[-0.25236657 -0.23703784 -0.09468894 -0.00517666]]\n",
      "\n",
      " [[-0.21112946 -0.08546327  0.01218882 -0.10639602]]]\n",
      "W2 = [[[ 0.00195378  0.21026614 -0.06578097  0.1364184   0.2222499\n",
      "   -0.0521269  -0.10156429  0.07779878  0.25672495 -0.11070448\n",
      "   -0.24133678  0.22932369 -0.12131652 -0.19843161  0.00836915\n",
      "    0.2382459 ]\n",
      "  [ 0.19370762 -0.00285059 -0.16772057 -0.26896152 -0.08236882\n",
      "    0.03179002 -0.16993259  0.07838121 -0.13628241 -0.0067054\n",
      "   -0.01532918 -0.1296589  -0.02574462  0.04416263  0.00078589\n",
      "    0.01459026]\n",
      "  [-0.2305329  -0.02772419  0.04661632 -0.07880084  0.24563825\n",
      "   -0.13493854  0.12062272 -0.21429895  0.1324434  -0.25661463\n",
      "   -0.00217873 -0.2582657  -0.01833352  0.06193399  0.06280574\n",
      "    0.04134524]\n",
      "  [ 0.218218   -0.24522743 -0.1792129   0.08037168 -0.01745364\n",
      "    0.0291664  -0.16428632  0.07574204  0.12146109 -0.15481046\n",
      "   -0.04468721  0.17526817 -0.23812303  0.2602985   0.20869657\n",
      "   -0.1798102 ]]\n",
      "\n",
      " [[-0.1629446   0.00640824  0.01329732 -0.13068661 -0.13124116\n",
      "    0.01280853  0.23043948  0.07645485 -0.07471581  0.147302\n",
      "   -0.26445326  0.02621728 -0.12371501 -0.0928961   0.02391315\n",
      "    0.25032234]\n",
      "  [-0.17720799  0.1639607  -0.1680804   0.13809156 -0.15818672\n",
      "    0.19661847 -0.10303405 -0.17088261  0.24019694 -0.2178393\n",
      "   -0.18323746 -0.23559354  0.09688038  0.01759964 -0.13097201\n",
      "   -0.21557125]\n",
      "  [-0.1732868   0.18667    -0.24460825  0.17472702 -0.09135537\n",
      "   -0.14691214 -0.24995743  0.11212754 -0.26263222  0.05697137\n",
      "    0.09187576  0.19358495 -0.06915639  0.15312785  0.07217896\n",
      "    0.13835293]\n",
      "  [-0.12871109  0.19795164  0.21375492  0.10979879  0.26481277\n",
      "   -0.25390783  0.19726273  0.0665139  -0.07089517  0.05237874\n",
      "    0.00799343  0.0819414   0.20456675  0.08461466  0.15819359\n",
      "    0.01807222]]]\n"
     ]
    }
   ],
   "source": [
    "tf.reset_default_graph()\n",
    "with tf.Session() as sess_test:\n",
    "    parameters = initialize_parameters()\n",
    "    init = tf.global_variables_initializer()\n",
    "    sess_test.run(init)\n",
    "    print(\"W1 = \" + str(parameters[\"W1\"].eval()[1]))\n",
    "    print(\"W2 = \" + str(parameters[\"W2\"].eval()[1]))\n",
    "    #print(\"W1 = \" + str(parameters[\"W1\"].eval()[1,1,1]))\n",
    "    #print(\"W2 = \" + str(parameters[\"W2\"].eval()[1,1,1]))"
   ]
  },
  {
   "cell_type": "code",
   "execution_count": 387,
   "metadata": {},
   "outputs": [],
   "source": [
    "# GRADED FUNCTION: forward_propagation\n",
    "\n",
    "def forward_propagation(X, parameters):\n",
    "    \"\"\"\n",
    "    Implements the forward propagation for the model:\n",
    "    CONV2D -> RELU -> MAXPOOL -> CONV2D -> RELU -> MAXPOOL -> FLATTEN -> FULLYCONNECTED\n",
    "    \n",
    "    Arguments:\n",
    "    X -- input dataset placeholder, of shape (input size, number of examples)\n",
    "    parameters -- python dictionary containing your parameters \"W1\", \"W2\"\n",
    "                  the shapes are given in initialize_parameters\n",
    "\n",
    "    Returns:\n",
    "    Z3 -- the output of the last LINEAR unit\n",
    "    \"\"\"\n",
    "    \n",
    "    # Retrieve the parameters from the dictionary \"parameters\" \n",
    "    W1 = parameters['W1']\n",
    "    W2 = parameters['W2']\n",
    "    \n",
    "    # CONV2D: stride of 1, padding 'SAME'\n",
    "    Z1 = tf.nn.conv2d(X, W1, strides=[1, 1, 1, 1], padding='SAME')\n",
    "    #Z1 = tf.nn.conv2d(x, filter=tf.Variable(tf.truncated_normal([, filter_size, input_channels, output_filters], stddev=0.5)), strides=[1,1,1,1] , padding='SAME')\n",
    "    # RELU\n",
    "    A1 = tf.nn.relu(Z1)\n",
    "    # MAXPOOL: window 8x8, stride 8, padding 'SAME'\n",
    "    P1 = tf.nn.max_pool(A1, ksize = [1, 8, 8, 1], strides = [1, 8, 8, 1], padding='SAME')\n",
    "    # CONV2D: filters W2, stride 1, padding 'SAME'\n",
    "    Z2 = tf.nn.conv2d(P1, W2, strides=[1,1 ,1, 1], padding='SAME')\n",
    "    # RELU\n",
    "    A2 = tf.nn.relu(Z2)\n",
    "    # MAXPOOL: window 4x4, stride 4, padding 'SAME'\n",
    "    P2 = tf.nn.max_pool(A2, ksize = [1, 4, 4, 1], strides = [1, 4, 4, 1], padding='SAME')\n",
    "    # FLATTEN\n",
    "    P = tf.contrib.layers.flatten(P2)\n",
    "    # FULLY-CONNECTED without non-linear activation function (not not call softmax).\n",
    "    # 40 neurons in output layer. Hint: one of the arguments should be \"activation_fn=None\" \n",
    "    Z3 = tf.contrib.layers.fully_connected(P, 40, activation_fn=None)\n",
    " \n",
    "\n",
    "    return Z3"
   ]
  },
  {
   "cell_type": "code",
   "execution_count": 388,
   "metadata": {},
   "outputs": [
    {
     "name": "stdout",
     "output_type": "stream",
     "text": [
      "Z3 = [[ 1.63907767e-04  2.51202122e-03 -1.70492125e-03 ... -7.92267267e-04\n",
      "   1.13287161e-03  7.21581688e-04]\n",
      " [-3.92477668e-05  1.75158167e-03 -7.74777029e-04 ... -1.25867222e-03\n",
      "   1.03816937e-03  1.99757662e-04]\n",
      " [ 2.20093294e-04  1.83201849e-03 -1.64542277e-03 ... -9.99809243e-04\n",
      "   4.33464127e-04  1.73395179e-04]\n",
      " ...\n",
      " [ 5.30901190e-04  2.05870881e-03 -1.42856478e-03 ... -9.86182597e-04\n",
      "   1.37498847e-03 -1.64969533e-04]\n",
      " [-8.14328669e-05  1.78922236e-03 -1.43110729e-03 ... -1.25117484e-03\n",
      "   7.82874471e-04  1.93832704e-04]\n",
      " [ 1.22804588e-04  1.99519587e-03 -9.32104187e-04 ... -9.76887532e-04\n",
      "   6.21022598e-04  1.18417476e-04]]\n"
     ]
    }
   ],
   "source": [
    "tf.reset_default_graph()\n",
    "\n",
    "with tf.Session() as sess:\n",
    "    np.random.seed(1)\n",
    "    X= create_placeholders(105, 105, 1)\n",
    "    parameters = initialize_parameters()\n",
    "    Z3 = forward_propagation(X, parameters)\n",
    "    init = tf.global_variables_initializer()\n",
    "    sess.run(init)\n",
    "    #a = sess.run(Z3, {X: np.random.randn(2,105,105, 1)})\n",
    "    a = sess.run(Z3, {X: X_train_new})\n",
    "    print(\"Z3 = \" + str(a))"
   ]
  },
  {
   "cell_type": "code",
   "execution_count": null,
   "metadata": {},
   "outputs": [],
   "source": []
  },
  {
   "cell_type": "code",
   "execution_count": null,
   "metadata": {},
   "outputs": [],
   "source": []
  },
  {
   "cell_type": "code",
   "execution_count": null,
   "metadata": {},
   "outputs": [],
   "source": [
    "\n",
    "def distance(test2, test2):\n",
    "    # Modified L2_distance\n",
    "    # Input\n",
    "    # test= is the test examples\n",
    "    #negative= images in the training examples\n",
    "    #positive= this is the result from the one-shot-training \n",
    "    # we add a margine to the inequality of the triple loss\n",
    "    # output : \\\\f(A)-f(B)\\\\^2 - \\\\f(A)-f(C)\\\\^2 + alpha.\n",
    "    Dis = cdist(test1, test2)\n",
    "    Dis_sqr=np.square(Dis)\n",
    "    Dis_sqr_sum=np.sum(Dis_sqr)\n",
    "    return Dis_sqr_sum"
   ]
  },
  {
   "cell_type": "code",
   "execution_count": null,
   "metadata": {},
   "outputs": [],
   "source": [
    "\n"
   ]
  },
  {
   "cell_type": "code",
   "execution_count": null,
   "metadata": {
    "scrolled": false
   },
   "outputs": [],
   "source": []
  },
  {
   "cell_type": "code",
   "execution_count": null,
   "metadata": {},
   "outputs": [],
   "source": []
  },
  {
   "cell_type": "code",
   "execution_count": null,
   "metadata": {},
   "outputs": [],
   "source": []
  }
 ],
 "metadata": {
  "kernelspec": {
   "display_name": "Python 3",
   "language": "python",
   "name": "python3"
  },
  "language_info": {
   "codemirror_mode": {
    "name": "ipython",
    "version": 3
   },
   "file_extension": ".py",
   "mimetype": "text/x-python",
   "name": "python",
   "nbconvert_exporter": "python",
   "pygments_lexer": "ipython3",
   "version": "3.6.3"
  }
 },
 "nbformat": 4,
 "nbformat_minor": 2
}
