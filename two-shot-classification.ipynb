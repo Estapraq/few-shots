{
 "cells": [
  {
   "cell_type": "code",
   "execution_count": 15,
   "metadata": {},
   "outputs": [],
   "source": [
    "# two-shot-classification.py\n",
    "# The training set will have two coppies of each exaple. I will run single test \n",
    "#file against the tarining examples each time. \n",
    "import os\n",
    "import numpy as np\n",
    "from scipy.ndimage import imread\n",
    "from scipy.spatial.distance import cdist"
   ]
  },
  {
   "cell_type": "code",
   "execution_count": 21,
   "metadata": {},
   "outputs": [],
   "source": [
    "nrun = 20  # Number of test files\n",
    "#path_to_script_dir = os.path.dirname(os.path.realpath(\"__file__\"))\n",
    "path_to_script_dir='C:/Users/Esta/Projects/two-shots'\n",
    "path_to_all_runs = os.path.join(path_to_script_dir, 'all_runs')\n",
    "fname_label = 'class_labels.txt'  # Where class labels are stored for each run"
   ]
  },
  {
   "cell_type": "code",
   "execution_count": 22,
   "metadata": {},
   "outputs": [],
   "source": [
    "#I merge the training examples of earch two follders in allrun to \n",
    "#create a two coppies for each training. I will use the test examples of first folder\n",
    "\n",
    "\n",
    "def classification_run(folder1, folder2, f_load, f_cost, alpha):\n",
    "    # Compute error rate for one run of two-shot classification\n",
    "    # Input\n",
    "    #  folder1 : contains images for a run of one-shot classification\n",
    "    #  folder2 : contains the images in the following folder for a run of one-shot classification\n",
    "\n",
    "    #  f_load : f_load('file.png')=load_img_as_points('file.png') should read in the image file and\n",
    "    #           process it\n",
    "    #  f_cost : f_cost(image1, image2, image3, margin) should compute similarity between two\n",
    "    #           images using the triple loss\n",
    "    #  alpha  : it is the margin that we use in L2 distance.\n",
    "    #\n",
    "    # Output\n",
    "    #  perror : percent errors (0 to 100% error)\n",
    "    \n",
    "    with open(os.path.join(path_to_all_runs, folder1, fname_label)) as f:\n",
    "        pairs1 = [line.split() for line in f.readlines()]\n",
    "\n",
    "\n",
    "    with open(os.path.join(path_to_all_runs, folder2, fname_label)) as k:\n",
    "        pairs2 = [line.split() for line in k.readlines()]\n",
    "        \n",
    "    \n",
    "    # Unzip the pairs into two sets of tuples\n",
    "    test_files1, train_files1 = zip(*pairs1)\n",
    "    test_files2, train_files2 = zip(*pairs2)\n",
    "   \n",
    "\n",
    "    answers_files1 = list(train_files1)  # Copy the training file list\n",
    "    test_files1 = sorted(test_files1)\n",
    "    train_files1 = sorted(train_files1)\n",
    "\n",
    "    answers_files2 = list(train_files2)  # Copy the training file list\n",
    "    test_files2 = sorted(test_files2)\n",
    "    train_files2 = sorted(train_files2)\n",
    "    \n",
    "    train_files=train_files1 + train_files2\n",
    "\n",
    "    n_train = len(train_files)\n",
    "    n_test1 = len(test_files1)\n",
    "    n_test2 = len(test_files2)\n",
    "    \n",
    "\n",
    "\n",
    "    # Load the images (and, if needed, extract features)\n",
    "    # we are using the function 'load_img_as_points(filename)' to convert to image\n",
    "    \n",
    "    train_items = [f_load(os.path.join(path_to_all_runs, f)) \n",
    "                   for f in train_files]\n",
    "    test_items1 = [f_load(os.path.join(path_to_all_runs, f))\n",
    "                   for f in test_files1]\n",
    "\n",
    "    answer_items1 = [f_load(os.path.join(path_to_all_runs, f))\n",
    "                   for f in answers_files1] #I will use it as a positive examples in L_2\n",
    "  \n",
    "    \n",
    "\n",
    "    # Compute cost matrix\n",
    "    costM = np.zeros((n_test1, n_train))#create a two dim matrix\n",
    "\n",
    "\n",
    "            \n",
    "    for i, test_i in enumerate(test_items1): # test_i and train_j are images points  \n",
    "        for j, train_j in enumerate(train_items):\n",
    "            costM[i, j] = f_cost(test_i, train_j, answer_items1[i], alpha)#calcula the distance using \"L2_distance()\n",
    "                \n",
    "    y_hats = np.min(costM, axis=1) \n",
    "   \n",
    "\n",
    "    #compute the error rate by counting the number of correct predictions\n",
    "    correct = len([1 for y_hat in y_hats\n",
    "                  if y_hat <= 0.01])#i choose the threshhold=0.01\n",
    "              \n",
    "\n",
    "    pcorrect = correct / float(n_test1)  # ensure float division\n",
    "    perror = (1.0 - pcorrect)*100\n",
    "\n",
    "    \n",
    "    return perror"
   ]
  },
  {
   "cell_type": "code",
   "execution_count": 23,
   "metadata": {},
   "outputs": [],
   "source": [
    "\n",
    "def L2_distance(test, negative, positive, margin):\n",
    "    # Modified L2_distance\n",
    "    # Input\n",
    "    # test= is the test examples\n",
    "    #negative= images in the training examples\n",
    "    #positive= this is the result from the one-shot-training \n",
    "    # we add a margine to the inequality of the triple loss\n",
    "    # output : \\\\f(A)-f(B)\\\\^2 - \\\\f(A)-f(C)\\\\^2 + alpha.\n",
    "    D_pos = cdist(test, positive)\n",
    "    D_neg = cdist(test, negative)\n",
    "    D_pos_sqr=np.square(D_pos)\n",
    "    D_neg_sqr=np.square(D_neg)\n",
    "    D_pos_sum=np.sum(D_pos_sqr)\n",
    "    D_neg_sum=np.sum(D_neg_sqr)\n",
    "    D_sub=float(np.add(np.subtract(D_neg_sum, D_pos_sum), margin))\n",
    "    loss=np.maximum(D_sub , 0.0 )\n",
    "    return loss "
   ]
  },
  {
   "cell_type": "code",
   "execution_count": 24,
   "metadata": {},
   "outputs": [],
   "source": [
    "\n",
    "def load_img_as_points(filename):\n",
    "    # Load image file and return coordinates of black pixels in the binary image\n",
    "    #\n",
    "    # Input\n",
    "    #  filename : string, absolute path to image\n",
    "    #\n",
    "   \n",
    "    I = imread(filename, flatten=True)\n",
    "    # Convert to boolean array and invert the pixel values\n",
    "    I = ~np.array(I, dtype=np.bool)\n",
    "    # Create a new array of all the non-zero element coordinates\n",
    "    D = np.array(I.nonzero()).T\n",
    "\n",
    "    return D - D.mean(axis=0)\n"
   ]
  },
  {
   "cell_type": "code",
   "execution_count": null,
   "metadata": {
    "scrolled": true
   },
   "outputs": [
    {
     "name": "stderr",
     "output_type": "stream",
     "text": [
      "c:\\users\\esta\\appdata\\local\\programs\\python\\python36\\lib\\site-packages\\ipykernel_launcher.py:9: DeprecationWarning: `imread` is deprecated!\n",
      "`imread` is deprecated in SciPy 1.0.0.\n",
      "Use ``matplotlib.pyplot.imread`` instead.\n",
      "  if __name__ == '__main__':\n"
     ]
    },
    {
     "name": "stdout",
     "output_type": "stream",
     "text": [
      " run 00 (error 5.0%)\n",
      " run 02 (error 0.0%)\n",
      " run 04 (error 5.0%)\n",
      " run 06 (error 5.0%)\n",
      " run 08 (error 0.0%)\n",
      " run 10 (error 0.0%)\n",
      " run 12 (error 0.0%)\n",
      " run 14 (error 5.0%)\n",
      " run 16 (error 5.0%)\n"
     ]
    }
   ],
   "source": [
    "\n",
    "# Main function\n",
    "if __name__ == \"__main__\":\n",
    "\n",
    " # The result will use the test examples in 10 files from allruns\n",
    "    perror = np.zeros(10)\n",
    "    margine=0.4\n",
    "\n",
    "    k=0 \n",
    "    for r in range(0, 20, 2):\n",
    "        perror[k]= classification_run('run{:02d}'.format(r+1), 'run{:02d}'.format(r + 2),\n",
    "                                       load_img_as_points,\n",
    "                                       L2_distance, margine)\n",
    "                          \n",
    "        print(' run {:02d} (error {:.1f}%)'.format(r, perror[k]))\n",
    "        k=k+1\n",
    "        \n",
    "\n",
    "    total = np.mean(perror)\n",
    "    print('Average error {:.1f}%'.format(total))"
   ]
  },
  {
   "cell_type": "code",
   "execution_count": null,
   "metadata": {},
   "outputs": [],
   "source": []
  },
  {
   "cell_type": "code",
   "execution_count": null,
   "metadata": {},
   "outputs": [],
   "source": []
  }
 ],
 "metadata": {
  "kernelspec": {
   "display_name": "Python 3",
   "language": "python",
   "name": "python3"
  },
  "language_info": {
   "codemirror_mode": {
    "name": "ipython",
    "version": 3
   },
   "file_extension": ".py",
   "mimetype": "text/x-python",
   "name": "python",
   "nbconvert_exporter": "python",
   "pygments_lexer": "ipython3",
   "version": "3.6.3"
  }
 },
 "nbformat": 4,
 "nbformat_minor": 2
}
